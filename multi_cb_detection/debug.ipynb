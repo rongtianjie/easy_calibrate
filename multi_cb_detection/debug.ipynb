{
 "cells": [
  {
   "cell_type": "code",
   "execution_count": 3,
   "metadata": {},
   "outputs": [],
   "source": [
    "import cv2\n",
    "import numpy as np\n",
    "import os, sys\n"
   ]
  },
  {
   "cell_type": "code",
   "execution_count": 4,
   "metadata": {},
   "outputs": [
    {
     "ename": "NameError",
     "evalue": "name 'src1' is not defined",
     "output_type": "error",
     "traceback": [
      "\u001b[1;31m---------------------------------------------------------------------------\u001b[0m",
      "\u001b[1;31mNameError\u001b[0m                                 Traceback (most recent call last)",
      "\u001b[1;32md:\\Dev\\Personal\\easy_calibrate\\multi_cb_detection\\debug.ipynb Cell 2\u001b[0m in \u001b[0;36m<cell line: 15>\u001b[1;34m()\u001b[0m\n\u001b[0;32m     <a href='vscode-notebook-cell:/d%3A/Dev/Personal/easy_calibrate/multi_cb_detection/debug.ipynb#W1sZmlsZQ%3D%3D?line=11'>12</a>\u001b[0m     \u001b[39mprint\u001b[39m(\u001b[39m\"\u001b[39m\u001b[39mImage load failed!\u001b[39m\u001b[39m\"\u001b[39m)\n\u001b[0;32m     <a href='vscode-notebook-cell:/d%3A/Dev/Personal/easy_calibrate/multi_cb_detection/debug.ipynb#W1sZmlsZQ%3D%3D?line=12'>13</a>\u001b[0m     sys\u001b[39m.\u001b[39mexit()\n\u001b[1;32m---> <a href='vscode-notebook-cell:/d%3A/Dev/Personal/easy_calibrate/multi_cb_detection/debug.ipynb#W1sZmlsZQ%3D%3D?line=14'>15</a>\u001b[0m \u001b[39mif\u001b[39;00m src1 \u001b[39mis\u001b[39;00m \u001b[39mNone\u001b[39;00m:\n\u001b[0;32m     <a href='vscode-notebook-cell:/d%3A/Dev/Personal/easy_calibrate/multi_cb_detection/debug.ipynb#W1sZmlsZQ%3D%3D?line=15'>16</a>\u001b[0m     \u001b[39mprint\u001b[39m(true)\n",
      "\u001b[1;31mNameError\u001b[0m: name 'src1' is not defined"
     ]
    }
   ],
   "source": [
    "img = cv2.imread(\"02.png\")\n",
    "src = None\n",
    "\n",
    "if img.shape[-1] == 1:\n",
    "    src = img.copy()\n",
    "else:\n",
    "    if img.shape[-1] == 3:\n",
    "        src = cv2.cvtColor(img, cv2.COLOR_BGR2GRAY)\n",
    "    elif img.shape[-1] == 4:\n",
    "        src = cv2.cvtColor(img, cv2.COLOR_BGRA2GRAY)\n",
    "\n",
    "if src is None:\n",
    "    print(\"Image load failed!\")\n",
    "    sys.exit()\n"
   ]
  },
  {
   "cell_type": "code",
   "execution_count": 5,
   "metadata": {},
   "outputs": [
    {
     "name": "stdout",
     "output_type": "stream",
     "text": [
      "[[1], [2], [1], [2], [1], [2]]\n"
     ]
    }
   ],
   "source": [
    "a = [[1], [2]]\n",
    "print(a*3)"
   ]
  }
 ],
 "metadata": {
  "kernelspec": {
   "display_name": "Python 3.9.12 ('ma_39')",
   "language": "python",
   "name": "python3"
  },
  "language_info": {
   "codemirror_mode": {
    "name": "ipython",
    "version": 3
   },
   "file_extension": ".py",
   "mimetype": "text/x-python",
   "name": "python",
   "nbconvert_exporter": "python",
   "pygments_lexer": "ipython3",
   "version": "3.9.12"
  },
  "orig_nbformat": 4,
  "vscode": {
   "interpreter": {
    "hash": "5275a1aa1fb941e5c74f62f1411ab526b4f3a7a92203c83b1e23218f346aee50"
   }
  }
 },
 "nbformat": 4,
 "nbformat_minor": 2
}
