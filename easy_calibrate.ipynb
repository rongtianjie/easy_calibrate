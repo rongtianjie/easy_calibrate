{
 "cells": [
  {
   "cell_type": "code",
   "execution_count": null,
   "metadata": {},
   "outputs": [],
   "source": [
    "import rawpy\n",
    "import numpy as np\n",
    "import cv2\n",
    "import matplotlib.pyplot as plt\n",
    "import os\n",
    "from tqdm import trange\n",
    "from calibrate import single_calibrate, stereo_calibrate\n",
    "from PIL import Image"
   ]
  },
  {
   "cell_type": "code",
   "execution_count": null,
   "metadata": {},
   "outputs": [],
   "source": [
    "path = \"test_images\"\n",
    "cam1 = \"cam1.jpg\"\n",
    "cam2 = \"cam2.RAF\" "
   ]
  },
  {
   "cell_type": "code",
   "execution_count": null,
   "metadata": {},
   "outputs": [],
   "source": [
    "def generate_masked_image(image, p1, p2, preview=None):\n",
    "    # generate a mask\n",
    "    mask = np.zeros(image.shape, dtype=np.uint8)\n",
    "    mask = cv2.rectangle(mask, p1, p2, (255, 255, 255), -1)\n",
    "    masked_image = cv2.bitwise_and(image, mask)\n",
    "    if preview is not None:\n",
    "        mask_preview = cv2.rectangle(np.zeros(image.shape, dtype=np.uint8), p1, p2, (0, 0, 255), -1)\n",
    "        mask_preview = cv2.addWeighted(image, 0.8, mask_preview, 0.2, 0)\n",
    "        cv2.imwrite(os.path.join(path, \"ref\", preview+\".jpg\"), mask_preview)\n",
    "    return masked_image"
   ]
  },
  {
   "cell_type": "code",
   "execution_count": null,
   "metadata": {},
   "outputs": [],
   "source": [
    "\n",
    "h0, h1, h2, h3 = 0, 0.3, 0.67, 1\n",
    "w0, w1, w2, w3 = 0.1, 0.36, 0.64, 0.91\n",
    "w4, w5, w6 = 0.25, 0.5, 0.75\n",
    "w7, w8, w9, w10 = 0.04, 0.35, 0.65, 0.96\n",
    "\n",
    "cam2_p = [\n",
    "    [[4229, 2964], [5566, 4004]],\n",
    "    [[5736, 3036], [6765, 3949]],\n",
    "    [[6946, 3080], [8129, 4080]],\n",
    "    [[4064, 4246], [5065, 5115]],\n",
    "    [[5164, 4295], [6143, 5082]],\n",
    "    [[6319, 4268], [7315, 5093]],\n",
    "    [[7397, 4312], [8393, 5148]],\n",
    "    [[4356, 5379], [5500, 6325]],\n",
    "    [[5698, 5472], [6782, 6300]],\n",
    "    [[6958, 5328], [8142, 6336]]\n",
    "]"
   ]
  },
  {
   "cell_type": "code",
   "execution_count": null,
   "metadata": {},
   "outputs": [],
   "source": [
    "img1 = np.asarray(Image.open(os.path.join(path, cam1)))[:3000, :4000]\n",
    "img = cv2.cvtColor(img1, cv2.COLOR_RGB2GRAY)\n",
    "thresh = cv2.threshold(img, 0, 255, cv2.THRESH_BINARY + cv2.THRESH_OTSU)[1]\n",
    "# do morphological opening to remove noise and invert image\n",
    "thresh = cv2.morphologyEx(thresh, cv2.MORPH_OPEN, np.ones((3, 3), np.uint8), iterations=15)\n",
    "\n",
    "contours, hierarchy = cv2.findContours(thresh, cv2.RETR_EXTERNAL, cv2.CHAIN_APPROX_SIMPLE)\n",
    "bounding_boxes = np.array([cv2.boundingRect(c) for c in contours])\n",
    "print(bounding_boxes.shape)\n",
    "bounding_boxes[:, 2:] += bounding_boxes[:, :2]\n",
    "\n",
    "x1 = np.min(bounding_boxes[:, 0])\n",
    "y1 = np.min(bounding_boxes[:, 1])\n",
    "x2 = np.max(bounding_boxes[:, 2])\n",
    "y2 = np.max(bounding_boxes[:, 3])\n",
    "\n",
    "print(x1, y1, x2, y2)\n",
    "h, w = y2-y1, x2-x1\n",
    "print(h, w)\n",
    "\n",
    "cv2.rectangle(img, (x1, y1), (x2, y2), (255, 0, 0), 3)\n",
    "\n",
    "plt.subplot(1, 2, 1)\n",
    "plt.imshow(img, cmap=\"gray\")\n",
    "plt.subplot(1, 2, 2)\n",
    "plt.imshow(thresh, cmap=\"gray\")\n",
    "\n",
    "cam1_p1 = [\n",
    "    [[y1+h0*h, x1+w0*w], [y1+h1*h, x1+w1*w]],\n",
    "    [[y1+h0*h, x1+w1*w], [y1+h1*h, x1+w2*w]],\n",
    "    [[y1+h0*h, x1+w2*w], [y1+h1*h, x1+w3*w]],\n",
    "\n",
    "    [[y1+h1*h, x1], [y1+h2*h, x1+w4*w]],\n",
    "    [[y1+h1*h, x1+w4*w], [y1+h2*h, x1+w5*w]],\n",
    "    [[y1+h1*h, x1+w5*w], [y1+h2*h, x1+w6*w]],\n",
    "    [[y1+h1*h, x1+w6*w], [y1+h2*h, x1+w]],\n",
    "\n",
    "    [[y1+h2*h, x1+w7*w], [y1+h3*h, x1+w8*w]],\n",
    "    [[y1+h2*h, x1+w8*w], [y1+h3*h, x1+w9*w]],\n",
    "    [[y1+h2*h, x1+w9*w], [y1+h3*h, x1+w10*w]],\n",
    "]\n",
    "\n",
    "# convert to int numpy array\n",
    "cam1_p1 = np.asarray(cam1_p1, dtype=np.int32)\n",
    "print(cam1_p1.shape)\n",
    "\n",
    "cam1_p1 = cam1_p1[:, :, ::-1]\n",
    "\n",
    "for b in cam1_p1:\n",
    "    cv2.rectangle(img, b[0], b[1], (255, 0, 0), 3)\n",
    "\n",
    "plt.imshow(img, cmap=\"gray\")"
   ]
  },
  {
   "cell_type": "code",
   "execution_count": null,
   "metadata": {},
   "outputs": [],
   "source": [
    "img2 = rawpy.imread(os.path.join(path, cam2)).postprocess(use_camera_wb=True, no_auto_bright=True, output_bps=8)[:8733, :11644]\n",
    "img2 = cv2.cvtColor(img2, cv2.COLOR_BGR2RGB)\n"
   ]
  },
  {
   "cell_type": "code",
   "execution_count": null,
   "metadata": {},
   "outputs": [],
   "source": [
    "print(img1.shape, img2.shape)\n",
    "image_list1 = []\n",
    "image_list2 = []\n",
    "\n",
    "print(\"Processing masked images...\")\n",
    "for i in trange(len(cam1_p1)):\n",
    "    p1, p2 = cam1_p1[i]\n",
    "    masked_image = generate_masked_image(img1, p1, p2, f\"cam1_{i}\")\n",
    "    image_list1.append(masked_image)\n",
    "    p1, p2 = cam2_p[i]\n",
    "    masked_image = generate_masked_image(img2, p1, p2, f\"cam2_{i}\")\n",
    "    image_list2.append(masked_image)\n",
    "\n",
    "print(\"Single calibration...\")\n",
    "ret, k1, d1, _, _ = single_calibrate(image_list1, path=os.path.join(path, \"ref\"))\n",
    "print(ret)\n",
    "\n",
    "# image_list1_resized = [cv2.resize(img, (img2.shape[1], img2.shape[0])) for img in image_list1]\n",
    "k1, d1 = k1/3000*8733, d1/3000*8733\n",
    "\n",
    "print(\"Stereo calibration...\")\n",
    "ret, k1_1, d1_1, k2, d2, R, T, E, F = stereo_calibrate(image_list1, image_list2, mtx1=k1, dist1=d1, mask = [1, 0], path=os.path.join(path, \"ref\"))\n",
    "\n",
    "print(ret)\n"
   ]
  },
  {
   "cell_type": "code",
   "execution_count": null,
   "metadata": {},
   "outputs": [],
   "source": [
    "print(k1_1)\n",
    "print(d1_1)\n",
    "print(k2)\n",
    "print(d2)\n",
    "print(R)\n",
    "print(T)\n"
   ]
  }
 ],
 "metadata": {
  "kernelspec": {
   "display_name": "Python 3.9.12 ('ma_39')",
   "language": "python",
   "name": "python3"
  },
  "language_info": {
   "codemirror_mode": {
    "name": "ipython",
    "version": 3
   },
   "file_extension": ".py",
   "mimetype": "text/x-python",
   "name": "python",
   "nbconvert_exporter": "python",
   "pygments_lexer": "ipython3",
   "version": "3.9.12"
  },
  "orig_nbformat": 4,
  "vscode": {
   "interpreter": {
    "hash": "5275a1aa1fb941e5c74f62f1411ab526b4f3a7a92203c83b1e23218f346aee50"
   }
  }
 },
 "nbformat": 4,
 "nbformat_minor": 2
}
