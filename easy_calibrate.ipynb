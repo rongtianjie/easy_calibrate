{
 "cells": [
  {
   "cell_type": "code",
   "execution_count": 110,
   "metadata": {},
   "outputs": [],
   "source": [
    "import rawpy\n",
    "import numpy as np\n",
    "import cv2\n",
    "import matplotlib.pyplot as plt\n",
    "import os\n",
    "from tqdm import trange\n",
    "from calibrate import single_calibrate"
   ]
  },
  {
   "cell_type": "code",
   "execution_count": 111,
   "metadata": {},
   "outputs": [],
   "source": [
    "path = \"test_images\"\n",
    "cam1 = \"cam1.jpg\"\n",
    "cam2 = \"cam2.RAF\" "
   ]
  },
  {
   "cell_type": "code",
   "execution_count": 112,
   "metadata": {},
   "outputs": [],
   "source": [
    "def generate_masked_image(image, p1, p2, preview=None):\n",
    "    # generate a mask\n",
    "    mask = np.zeros(image.shape, dtype=np.uint8)\n",
    "    mask = cv2.rectangle(mask, p1, p2, (255, 255, 255), -1)\n",
    "    masked_image = cv2.bitwise_and(image, mask)\n",
    "    if preview is not None:\n",
    "        mask_preview = cv2.rectangle(np.zeros(image.shape, dtype=np.uint8), p1, p2, (0, 0, 255), -1)\n",
    "        mask_preview = cv2.addWeighted(image, 0.8, mask_preview, 0.2, 0)\n",
    "        cv2.imwrite(os.path.join(path, \"ref\", preview+\".jpg\"), mask_preview)\n",
    "    return masked_image"
   ]
  },
  {
   "cell_type": "code",
   "execution_count": 113,
   "metadata": {},
   "outputs": [],
   "source": [
    "cam1_p = [\n",
    "    [[750, 450], [1480, 1020]],\n",
    "    [[1645, 477], [2355, 991]],\n",
    "    [[2491, 405], [3253, 1113]],\n",
    "    [[425, 1109], [1173, 1829]],\n",
    "    [[1213, 1229], [1949, 1785]],\n",
    "    [[2061, 1241], [2797, 1857]],\n",
    "    [[2809, 1170], [3545, 1773]],\n",
    "    [[561, 1985], [1465, 2693]],\n",
    "    [[1593, 2080], [2437, 2585]],\n",
    "    [[2525, 1937], [3413, 2619]]\n",
    "]\n",
    "\n",
    "cam2_p = [\n",
    "    [[4229, 2964], [5566, 4004]],\n",
    "    [[5736, 3036], [6765, 3949]],\n",
    "    [[6946, 3080], [8129, 4080]],\n",
    "    [[4064, 4246], [5065, 5115]],\n",
    "    [[5164, 4295], [6143, 5082]],\n",
    "    [[6319, 4268], [7315, 5093]],\n",
    "    [[7397, 4312], [8393, 5148]],\n",
    "    [[4356, 5379], [5500, 6325]],\n",
    "    [[5698, 5472], [6782, 6300]],\n",
    "    [[6958, 5128], [8142, 6336]]\n",
    "]"
   ]
  },
  {
   "cell_type": "code",
   "execution_count": 114,
   "metadata": {},
   "outputs": [
    {
     "name": "stderr",
     "output_type": "stream",
     "text": [
      "100%|██████████| 10/10 [00:23<00:00,  2.33s/it]\n",
      "100%|██████████| 10/10 [00:00<00:00, 59.88it/s]\n"
     ]
    },
    {
     "name": "stdout",
     "output_type": "stream",
     "text": [
      "0.11306397739538711\n"
     ]
    }
   ],
   "source": [
    "img1 = cv2.imread(os.path.join(path, cam1))\n",
    "img2 = rawpy.imread(os.path.join(path, cam2)).postprocess(use_camera_wb=True, no_auto_bright=True, output_bps=8)\n",
    "\n",
    "image_list1 = []\n",
    "image_list2 = []\n",
    "\n",
    "for i in trange(len(cam1_p)):\n",
    "    p1, p2 = cam1_p[i]\n",
    "    image_list1.append(generate_masked_image(img1, p1, p2, f\"cam1_{i}\"))\n",
    "    p1, p2 = cam2_p[i]\n",
    "    image_list2.append(generate_masked_image(img2, p1, p2, f\"cam2_{i}\"))\n",
    "\n",
    "ret, _, _, _, _ = single_calibrate(image_list1)\n",
    "print(ret)\n"
   ]
  }
 ],
 "metadata": {
  "kernelspec": {
   "display_name": "Python 3.9.12 ('ma_39')",
   "language": "python",
   "name": "python3"
  },
  "language_info": {
   "codemirror_mode": {
    "name": "ipython",
    "version": 3
   },
   "file_extension": ".py",
   "mimetype": "text/x-python",
   "name": "python",
   "nbconvert_exporter": "python",
   "pygments_lexer": "ipython3",
   "version": "3.9.12"
  },
  "orig_nbformat": 4,
  "vscode": {
   "interpreter": {
    "hash": "5275a1aa1fb941e5c74f62f1411ab526b4f3a7a92203c83b1e23218f346aee50"
   }
  }
 },
 "nbformat": 4,
 "nbformat_minor": 2
}
