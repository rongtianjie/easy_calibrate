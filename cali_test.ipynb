{
 "cells": [
  {
   "cell_type": "code",
   "execution_count": null,
   "metadata": {},
   "outputs": [],
   "source": [
    "import numpy as np\n",
    "import matplotlib.pyplot as plt\n",
    "import cv2\n",
    "from PIL import Image\n",
    "from PIL import ImageEnhance\n",
    "from glob import glob\n",
    "from tqdm import tqdm, trange\n",
    "import os, sys\n",
    "import rawpy"
   ]
  },
  {
   "cell_type": "code",
   "execution_count": null,
   "metadata": {},
   "outputs": [],
   "source": [
    "path = \"test_images\"\n",
    "cam1 = \"1.png\"\n",
    "cam2 = \"DSCF9208.RAF\" \n",
    "width, height = 11, 8\n",
    "square_size = 5\n",
    "criteria = (cv2.TERM_CRITERIA_EPS + cv2.TERM_CRITERIA_MAX_ITER, 30, 0.001)"
   ]
  },
  {
   "cell_type": "code",
   "execution_count": null,
   "metadata": {},
   "outputs": [],
   "source": [
    "def generate_masked_image(image, p1, p2, preview=None):\n",
    "    # generate a mask\n",
    "    mask = np.zeros(image.shape, dtype=np.uint8)\n",
    "    mask = cv2.rectangle(mask, p1, p2, (255, 255, 255), -1)\n",
    "    # masked_image = cv2.bitwise_and(image, mask)\n",
    "    if preview is not None:\n",
    "        mask_preview = cv2.rectangle(np.zeros(image.shape, dtype=np.uint8), p1, p2, (255, 0, 0), -1)\n",
    "        mask_preview = cv2.addWeighted(image, 0.8, mask_preview, 0.2, 0)\n",
    "        mask_preview = cv2.cvtColor(mask_preview, cv2.COLOR_RGB2BGR)\n",
    "        cv2.imwrite(os.path.join(path, \"ref\", preview+\".jpg\"), mask_preview)\n",
    "    # return masked_image"
   ]
  },
  {
   "cell_type": "code",
   "execution_count": null,
   "metadata": {},
   "outputs": [],
   "source": [
    "img1 = Image.open(os.path.join(path, cam1))\n",
    "img1 = img1.transpose(Image.ROTATE_180)\n",
    "img1 = np.asarray(img1)[:, 160:-160, :3]\n",
    "gray = cv2.cvtColor(img1, cv2.COLOR_RGB2GRAY)\n",
    "\n",
    "x1, y1, x2, y2 = 40, 20, 1550, 1170\n",
    "h, w = y2-y1, x2-x1\n",
    "print(x1, y1, x2, y2, h, w)\n",
    "\n",
    "cv2.rectangle(gray, (x1, y1), (x2, y2), (255, 0, 0), 5)\n",
    "\n",
    "h0, h1, h2, h3 = 0, 0.34, 0.67, 1\n",
    "w0, w1, w2, w3 = 0.06, 0.36, 0.64, 0.90\n",
    "w4, w5, w6 = 0.24, 0.5, 0.75\n",
    "w7, w8, w9, w10 = 0.04, 0.33, 0.64, 0.96\n",
    "\n",
    "cam1_p1 = [\n",
    "    [[y1+h0*h, x1+w0*w], [y1+h1*h, x1+w1*w]],\n",
    "    [[y1+h0*h, x1+w1*w], [y1+h1*h, x1+w2*w]],\n",
    "    [[y1+h0*h, x1+w2*w], [y1+h1*h, x1+w3*w]],\n",
    "\n",
    "    [[y1+h1*h, x1], [y1+h2*h, x1+w4*w]],\n",
    "    [[y1+h1*h, x1+w4*w], [y1+h2*h, x1+w5*w]],\n",
    "    [[y1+h1*h, x1+w5*w], [y1+h2*h, x1+w6*w]],\n",
    "    [[y1+h1*h, x1+w6*w], [y1+h2*h, x1+w]],\n",
    "\n",
    "    [[y1+h2*h, x1+w7*w], [y1+h3*h, x1+w8*w]],\n",
    "    [[y1+h2*h, x1+w8*w], [y1+h3*h, x1+w9*w]],\n",
    "    [[y1+h2*h, x1+w9*w], [y1+h3*h, x1+w10*w]],\n",
    "]\n",
    "\n",
    "cam1_p1 = np.asarray(cam1_p1, dtype=np.int32)\n",
    "cam1_p1 = cam1_p1[:, :, ::-1]\n",
    "for b in cam1_p1:\n",
    "    cv2.rectangle(gray, b[0], b[1], (255, 0, 0), 5)\n",
    "plt.imshow(gray, cmap=\"gray\")"
   ]
  },
  {
   "cell_type": "code",
   "execution_count": null,
   "metadata": {},
   "outputs": [],
   "source": [
    "img2 = rawpy.imread(os.path.join(path, cam2)).postprocess(use_camera_wb=True, no_auto_bright=True, output_bps=8)[:8733, :11644]\n",
    "# increase img contrast\n",
    "img2 = Image.fromarray(img2)\n",
    "img2 = ImageEnhance.Contrast(img2).enhance(2)\n",
    "img2 = np.asarray(img2)\n",
    "gray = cv2.cvtColor(img2, cv2.COLOR_RGB2GRAY)\n",
    "\n",
    "x1, y1, x2, y2 = 3000, 2000, 7600, 5700\n",
    "\n",
    "h, w = y2-y1, x2-x1\n",
    "print(x1, y1, x2, y2, h, w)\n",
    "\n",
    "cv2.rectangle(gray, (x1, y1), (x2, y2), (255, 0, 0), 5)\n",
    "\n",
    "h0, h1, h2, h3 = 0, 0.3, 0.67, 1\n",
    "w0, w1, w2, w3 = 0.05, 0.38, 0.66, 0.95\n",
    "w4, w5, w6 = 0.25, 0.5, 0.75\n",
    "w7, w8, w9, w10 = 0.05, 0.36, 0.65, 0.93\n",
    "\n",
    "cam2_p1 = [\n",
    "    [[y1+h0*h, x1+w0*w], [y1+h1*h, x1+w1*w]],\n",
    "    [[y1+h0*h, x1+w1*w], [y1+h1*h, x1+w2*w]],\n",
    "    [[y1+h0*h, x1+w2*w], [y1+h1*h, x1+w3*w]],\n",
    "\n",
    "    [[y1+h1*h, x1], [y1+h2*h, x1+w4*w]],\n",
    "    [[y1+h1*h, x1+w4*w], [y1+h2*h, x1+w5*w]],\n",
    "    [[y1+h1*h, x1+w5*w], [y1+h2*h, x1+w6*w]],\n",
    "    [[y1+h1*h, x1+w6*w], [y1+h2*h, x1+w]],\n",
    "\n",
    "    [[y1+h2*h, x1+w7*w], [y1+h3*h, x1+w8*w]],\n",
    "    [[y1+h2*h, x1+w8*w], [y1+h3*h, x1+w9*w]],\n",
    "    [[y1+h2*h, x1+w9*w], [y1+h3*h, x1+w10*w]],\n",
    "]\n",
    "\n",
    "cam2_p1 = np.asarray(cam2_p1, dtype=np.int32)\n",
    "cam2_p1 = cam2_p1[:, :, ::-1]\n",
    "\n",
    "for b in cam2_p1:\n",
    "    cv2.rectangle(gray, b[0], b[1], (255, 0, 0), 5)\n",
    "plt.imshow(gray, cmap=\"gray\")"
   ]
  },
  {
   "cell_type": "code",
   "execution_count": null,
   "metadata": {},
   "outputs": [],
   "source": [
    "print(img1.shape, img2.shape)\n",
    "os.makedirs(os.path.join(path, \"ref\"), exist_ok=True)\n",
    "for i in trange(len(cam1_p1)):\n",
    "    p1, p2 = cam1_p1[i]\n",
    "    generate_masked_image(img1, p1, p2, f\"cam1_{i}\")\n",
    "    p1, p2 = cam2_p1[i]\n",
    "    generate_masked_image(img2, p1, p2, f\"cam2_{i}\")"
   ]
  },
  {
   "cell_type": "code",
   "execution_count": null,
   "metadata": {},
   "outputs": [],
   "source": [
    "os.makedirs(os.path.join(path, \"ref\", \"cb\"), exist_ok=True)\n",
    "\n",
    "objp = np.zeros((height*width, 3), np.float32)\n",
    "objp[:, :2] = np.mgrid[0:width*square_size:square_size, 0:height*square_size:square_size].T.reshape(-1, 2)\n",
    "\n",
    "objpoints = [] # 3d point in real world space\n",
    "imgpoints = [] # 2d points in image plane\n",
    "\n",
    "preview = cv2.cvtColor(img1, cv2.COLOR_RGB2BGR)\n",
    "for i in trange(10):\n",
    "    gray = cv2.cvtColor(img1, cv2.COLOR_RGB2GRAY)\n",
    "    p1, p2 = cam1_p1[i]\n",
    "    sub_gray = gray[p1[1]:p2[1], p1[0]:p2[0]]\n",
    "    ret, corners = cv2.findChessboardCorners(sub_gray, (width, height), cv2.CALIB_CB_ADAPTIVE_THRESH+cv2.CALIB_CB_NORMALIZE_IMAGE)\n",
    "    if ret:\n",
    "        objpoints.append(objp)\n",
    "        corners2 = cv2.cornerSubPix(sub_gray, corners, (11, 11), (-1, -1), criteria)\n",
    "        corners2 += np.array(p1)\n",
    "        imgpoints.append(corners2)\n",
    "\n",
    "        cv2.drawChessboardCorners(preview, (width, height), corners2, ret)\n",
    "    else:\n",
    "        print(\"not found\")\n",
    "\n",
    "cv2.imwrite(os.path.join(path, \"ref\", \"cb\", f\"single.jpg\"), preview)\n",
    "\n",
    "ret, mtx, dist, rvecs, tvecs = cv2.calibrateCamera(objpoints, imgpoints, gray.shape[::-1], None, None)\n",
    "\n",
    "print(\"ret\", ret)\n",
    "print(\"mtx\", mtx)\n",
    "print(\"dist\", dist)"
   ]
  }
 ],
 "metadata": {
  "kernelspec": {
   "display_name": "Python 3.9.12 ('ma_39')",
   "language": "python",
   "name": "python3"
  },
  "language_info": {
   "codemirror_mode": {
    "name": "ipython",
    "version": 3
   },
   "file_extension": ".py",
   "mimetype": "text/x-python",
   "name": "python",
   "nbconvert_exporter": "python",
   "pygments_lexer": "ipython3",
   "version": "3.9.12"
  },
  "orig_nbformat": 4,
  "vscode": {
   "interpreter": {
    "hash": "5275a1aa1fb941e5c74f62f1411ab526b4f3a7a92203c83b1e23218f346aee50"
   }
  }
 },
 "nbformat": 4,
 "nbformat_minor": 2
}
